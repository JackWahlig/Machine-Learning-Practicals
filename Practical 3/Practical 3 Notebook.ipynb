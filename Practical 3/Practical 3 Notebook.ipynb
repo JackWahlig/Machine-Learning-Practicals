{
 "cells": [
  {
   "cell_type": "code",
   "execution_count": 1,
   "metadata": {},
   "outputs": [],
   "source": [
    "#Imports\n",
    "import tensorflow as tf\n",
    "from tensorflow.keras import datasets, layers, models, optimizers, losses\n",
    "import tensorflow_datasets as tfds\n",
    "import numpy as np\n",
    "import matplotlib.pyplot as plt"
   ]
  },
  {
   "cell_type": "code",
   "execution_count": 2,
   "metadata": {},
   "outputs": [],
   "source": [
    "#Get dataset\n",
    "(train_images, train_labels), (test_images, test_labels) = datasets.mnist.load_data()"
   ]
  },
  {
   "cell_type": "code",
   "execution_count": 3,
   "metadata": {},
   "outputs": [],
   "source": [
    "# Normalize pixel values to be between 0 and 1\n",
    "train_images, test_images = train_images.reshape(-1, 28, 28, 1) / 255.0, test_images.reshape(-1, 28, 28, 1) / 255.0\n",
    "\n",
    "#One-hot encoding\n",
    "train_labels_one_hot = tf.one_hot(train_labels, depth=10)\n",
    "test_labels_one_hot = tf.one_hot(test_labels, depth=10)"
   ]
  },
  {
   "cell_type": "code",
   "execution_count": 4,
   "metadata": {},
   "outputs": [
    {
     "data": {
      "image/png": "[encoded data removed]",
      "text/plain": [
       "<Figure size 432x288 with 16 Axes>"
      ]
     },
     "metadata": {},
     "output_type": "display_data"
    }
   ],
   "source": [
    "#Visualize first 16 data points\n",
    "fig = plt.figure()\n",
    "for i in range(16):\n",
    "    ax = fig.add_subplot(4, 4, i + 1)\n",
    "    ax.set_xticks(())\n",
    "    ax.set_yticks(())\n",
    "    ax.imshow(train_images[i].reshape(28, 28), cmap='Greys_r')"
   ]
  },
  {
   "cell_type": "code",
   "execution_count": 5,
   "metadata": {},
   "outputs": [
    {
     "name": "stdout",
     "output_type": "stream",
     "text": [
      "Model: \"sequential\"\n",
      "_________________________________________________________________\n",
      "Layer (type)                 Output Shape              Param #   \n",
      "=================================================================\n",
      "conv2d (Conv2D)              (None, 9, 9, 25)          3625      \n",
      "_________________________________________________________________\n",
      "conv2d_1 (Conv2D)            (None, 9, 9, 64)          40064     \n",
      "_________________________________________________________________\n",
      "max_pooling2d (MaxPooling2D) (None, 4, 4, 64)          0         \n",
      "_________________________________________________________________\n",
      "flatten (Flatten)            (None, 1024)              0         \n",
      "_________________________________________________________________\n",
      "dense (Dense)                (None, 1024)              1049600   \n",
      "_________________________________________________________________\n",
      "dropout (Dropout)            (None, 1024)              0         \n",
      "_________________________________________________________________\n",
      "dense_1 (Dense)              (None, 10)                10250     \n",
      "=================================================================\n",
      "Total params: 1,103,539\n",
      "Trainable params: 1,103,539\n",
      "Non-trainable params: 0\n",
      "_________________________________________________________________\n"
     ]
    }
   ],
   "source": [
    "#Building the NN model\n",
    "model = models.Sequential()\n",
    "model.add(layers.Conv2D(25, 12, strides=2, padding='valid', activation='relu', input_shape=(28, 28, 1)))\n",
    "model.add(layers.Conv2D(64, 5, strides=1, padding='same', activation='relu'))\n",
    "model.add(layers.MaxPooling2D((2, 2)))\n",
    "model.add(layers.Flatten())\n",
    "model.add(layers.Dense(1024, activation='relu'))\n",
    "model.add(layers.Dropout(0.2))\n",
    "model.add(layers.Dense(10, activation='softmax'))\n",
    "\n",
    "model.summary()"
   ]
  },
  {
   "cell_type": "code",
   "execution_count": 6,
   "metadata": {},
   "outputs": [],
   "source": [
    "#Split into training and validation sets (80/20 split)\n",
    "N = len(train_images)\n",
    "N_train = int(0.8 * N)\n",
    "train_images_sub = train_images[:N_train]\n",
    "train_labels_sub = train_labels_one_hot[:N_train]\n",
    "val_images = train_images[N_train:]\n",
    "val_labels = train_labels_one_hot[N_train:]"
   ]
  },
  {
   "cell_type": "code",
   "execution_count": 7,
   "metadata": {},
   "outputs": [],
   "source": [
    "#Compile the model\n",
    "model.compile(\n",
    "    optimizer=optimizers.Adam(learning_rate=0.0001),  # Optimizer\n",
    "    # Loss function to minimize\n",
    "    loss=losses.CategoricalCrossentropy(),\n",
    "    # List of metrics to monitor\n",
    "    metrics=['accuracy'],\n",
    ")"
   ]
  },
  {
   "cell_type": "code",
   "execution_count": 8,
   "metadata": {},
   "outputs": [
    {
     "name": "stdout",
     "output_type": "stream",
     "text": [
      "Train on 48000 samples, validate on 12000 samples\n",
      "Epoch 1/20\n",
      "48000/48000 [==============================] - 23s 480us/sample - loss: 0.4306 - accuracy: 0.8814 - val_loss: 0.1543 - val_accuracy: 0.9549\n",
      "Epoch 2/20\n",
      "48000/48000 [==============================] - 23s 483us/sample - loss: 0.1292 - accuracy: 0.9617 - val_loss: 0.0946 - val_accuracy: 0.9720\n",
      "Epoch 3/20\n",
      "48000/48000 [==============================] - 23s 483us/sample - loss: 0.0880 - accuracy: 0.9732 - val_loss: 0.0766 - val_accuracy: 0.9770\n",
      "Epoch 4/20\n",
      "48000/48000 [==============================] - 24s 507us/sample - loss: 0.0671 - accuracy: 0.9795 - val_loss: 0.0617 - val_accuracy: 0.9812\n",
      "Epoch 5/20\n",
      "48000/48000 [==============================] - 24s 502us/sample - loss: 0.0527 - accuracy: 0.9836 - val_loss: 0.0561 - val_accuracy: 0.9835\n",
      "Epoch 6/20\n",
      "48000/48000 [==============================] - 25s 515us/sample - loss: 0.0444 - accuracy: 0.9864 - val_loss: 0.0523 - val_accuracy: 0.9844\n",
      "Epoch 7/20\n",
      "48000/48000 [==============================] - 24s 505us/sample - loss: 0.0385 - accuracy: 0.9885 - val_loss: 0.0494 - val_accuracy: 0.9852\n",
      "Epoch 8/20\n",
      "48000/48000 [==============================] - 26s 540us/sample - loss: 0.0331 - accuracy: 0.9901 - val_loss: 0.0465 - val_accuracy: 0.9870\n",
      "Epoch 9/20\n",
      "48000/48000 [==============================] - 25s 515us/sample - loss: 0.0282 - accuracy: 0.9912 - val_loss: 0.0444 - val_accuracy: 0.9875\n",
      "Epoch 10/20\n",
      "48000/48000 [==============================] - 25s 522us/sample - loss: 0.0245 - accuracy: 0.9927 - val_loss: 0.0454 - val_accuracy: 0.9868\n",
      "Epoch 11/20\n",
      "48000/48000 [==============================] - 25s 523us/sample - loss: 0.0215 - accuracy: 0.9932 - val_loss: 0.0453 - val_accuracy: 0.9871\n",
      "Epoch 12/20\n",
      "48000/48000 [==============================] - 25s 520us/sample - loss: 0.0182 - accuracy: 0.9947 - val_loss: 0.0441 - val_accuracy: 0.9878\n",
      "Epoch 13/20\n",
      "48000/48000 [==============================] - 25s 525us/sample - loss: 0.0151 - accuracy: 0.9950 - val_loss: 0.0450 - val_accuracy: 0.9872\n",
      "Epoch 14/20\n",
      "48000/48000 [==============================] - 25s 518us/sample - loss: 0.0136 - accuracy: 0.9956 - val_loss: 0.0438 - val_accuracy: 0.9882\n",
      "Epoch 15/20\n",
      "48000/48000 [==============================] - 25s 522us/sample - loss: 0.0118 - accuracy: 0.9960 - val_loss: 0.0456 - val_accuracy: 0.9876\n",
      "Epoch 16/20\n",
      "48000/48000 [==============================] - 25s 518us/sample - loss: 0.0091 - accuracy: 0.9975 - val_loss: 0.0415 - val_accuracy: 0.9897\n",
      "Epoch 17/20\n",
      "48000/48000 [==============================] - 25s 524us/sample - loss: 0.0095 - accuracy: 0.9969 - val_loss: 0.0436 - val_accuracy: 0.9880\n",
      "Epoch 18/20\n",
      "48000/48000 [==============================] - 25s 525us/sample - loss: 0.0079 - accuracy: 0.9976 - val_loss: 0.0442 - val_accuracy: 0.9884\n",
      "Epoch 19/20\n",
      "48000/48000 [==============================] - 25s 520us/sample - loss: 0.0082 - accuracy: 0.9974 - val_loss: 0.0445 - val_accuracy: 0.9886\n",
      "Epoch 20/20\n",
      "48000/48000 [==============================] - 25s 526us/sample - loss: 0.0064 - accuracy: 0.9980 - val_loss: 0.0418 - val_accuracy: 0.9902\n"
     ]
    }
   ],
   "source": [
    "#Train the model\n",
    "history = model.fit(\n",
    "    train_images_sub,\n",
    "    train_labels_sub,\n",
    "    batch_size=50,\n",
    "    epochs=20,\n",
    "    # We pass some validation for\n",
    "    # monitoring validation loss and metrics\n",
    "    # at the end of each epoch\n",
    "    validation_data=(val_images, val_labels),\n",
    ")"
   ]
  },
  {
   "cell_type": "code",
   "execution_count": 9,
   "metadata": {},
   "outputs": [
    {
     "name": "stdout",
     "output_type": "stream",
     "text": [
      "10000/10000 [==============================] - 1s 146us/sample - loss: 0.0339 - accuracy: 0.9912\n"
     ]
    }
   ],
   "source": [
    "# Evaluate the model on the test data\n",
    "results = model.evaluate(test_images, test_labels_one_hot)"
   ]
  }
 ],
 "metadata": {
  "kernelspec": {
   "display_name": "Python 3",
   "language": "python",
   "name": "python3"
  },
  "language_info": {
   "codemirror_mode": {
    "name": "ipython",
    "version": 3
   },
   "file_extension": ".py",
   "mimetype": "text/x-python",
   "name": "python",
   "nbconvert_exporter": "python",
   "pygments_lexer": "ipython3",
   "version": "3.7.9"
  }
 },
 "nbformat": 4,
 "nbformat_minor": 2
}
