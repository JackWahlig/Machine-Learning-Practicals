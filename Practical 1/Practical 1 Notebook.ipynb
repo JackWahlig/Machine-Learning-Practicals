{
 "cells": [
  {
   "cell_type": "code",
   "execution_count": 1,
   "metadata": {},
   "outputs": [],
   "source": [
    "import _pickle as cp\n",
    "import numpy as np\n",
    "import matplotlib.pyplot as plt\n",
    "from sklearn.preprocessing import StandardScaler\n",
    "from sklearn.preprocessing import PolynomialFeatures\n",
    "from sklearn.linear_model import LinearRegression\n",
    "from sklearn.pipeline import Pipeline\n",
    "from sklearn.linear_model import Ridge\n",
    "from sklearn.linear_model import Lasso"
   ]
  },
  {
   "cell_type": "code",
   "execution_count": 2,
   "metadata": {},
   "outputs": [],
   "source": [
    "#Load data and put into train and test sets\n",
    "X, y = cp.load(open('winequality-white.pickle', 'rb'))\n",
    "N, D = X.shape\n",
    "N_train = int(0.8 * N)\n",
    "N_test = N - N_train\n",
    "X_train = X[:N_train]\n",
    "y_train = y[:N_train]\n",
    "X_test = X[N_train:]\n",
    "y_test = y[N_train:]"
   ]
  },
  {
   "cell_type": "code",
   "execution_count": 3,
   "metadata": {
    "scrolled": true
   },
   "outputs": [
    {
     "data": {
      "image/png": "[encoded data removed]",
      "text/plain": [
       "<Figure size 432x288 with 1 Axes>"
      ]
     },
     "metadata": {
      "needs_background": "light"
     },
     "output_type": "display_data"
    }
   ],
   "source": [
    "#Create a bar chart for training output data\n",
    "objects = (3, 4, 5, 6, 7, 8, 9)\n",
    "y_pos = np.arange(len(objects))\n",
    "performance = [np.count_nonzero(y_train == 3),\n",
    "               np.count_nonzero(y_train == 4),\n",
    "               np.count_nonzero(y_train == 5),\n",
    "               np.count_nonzero(y_train == 6),\n",
    "               np.count_nonzero(y_train == 7),\n",
    "               np.count_nonzero(y_train == 8),\n",
    "               np.count_nonzero(y_train == 9)]\n",
    "\n",
    "plt.bar(y_pos, performance, align='center', alpha=0.5)\n",
    "plt.xticks(y_pos, objects)\n",
    "plt.xlabel('Wine Quality')\n",
    "plt.ylabel('Count')\n",
    "plt.title('White Wine Quality')\n",
    "\n",
    "plt.show()"
   ]
  },
  {
   "cell_type": "code",
   "execution_count": 4,
   "metadata": {},
   "outputs": [
    {
     "data": {
      "text/plain": [
       "0.7767772386501117"
      ]
     },
     "execution_count": 4,
     "metadata": {},
     "output_type": "execute_result"
    }
   ],
   "source": [
    "#Calculate MSE for simplest model (average of all outputs)\n",
    "mean_y_train = np.mean(y_train)\n",
    "MSE = (np.sum((mean_y_train - y_train)**2)) / len(y_train)\n",
    "\n",
    "MSE"
   ]
  },
  {
   "cell_type": "code",
   "execution_count": 5,
   "metadata": {},
   "outputs": [],
   "source": [
    "#Standardize both training and testing features\n",
    "scaler = StandardScaler().fit(X_train)\n",
    "X_train_stand = scaler.transform(X_train)\n",
    "\n",
    "X_test_stand = scaler.transform(X_test)"
   ]
  },
  {
   "cell_type": "code",
   "execution_count": 6,
   "metadata": {},
   "outputs": [],
   "source": [
    "#Use w = (x^T X)^-1 X^T y for least squares linear regression\n",
    "XT = X_train_stand.transpose()\n",
    "\n",
    "XTX = np.matmul(XT, X_train_stand)\n",
    "\n",
    "XTX_inv = np.linalg.inv(XTX)\n",
    "\n",
    "w = np.matmul(np.matmul(XTX_inv, XT), y_train)"
   ]
  },
  {
   "cell_type": "code",
   "execution_count": 7,
   "metadata": {},
   "outputs": [
    {
     "data": {
      "text/plain": [
       "0.5639996173941925"
      ]
     },
     "execution_count": 7,
     "metadata": {},
     "output_type": "execute_result"
    }
   ],
   "source": [
    "#Get MSE on training set\n",
    "y_hat_train = np.matmul(X_train_stand, w) + np.mean(y_train)\n",
    "\n",
    "MSE_train = (np.sum((y_hat_train - y_train)**2)) / len(y_train)\n",
    "MSE_train"
   ]
  },
  {
   "cell_type": "code",
   "execution_count": 8,
   "metadata": {},
   "outputs": [
    {
     "data": {
      "text/plain": [
       "0.56072920422927"
      ]
     },
     "execution_count": 8,
     "metadata": {},
     "output_type": "execute_result"
    }
   ],
   "source": [
    "#Get MSE on testing set\n",
    "y_hat_test = np.matmul(X_test_stand, w) + np.mean(y_train)\n",
    "\n",
    "MSE_test = (np.sum((y_hat_test - y_test)**2)) / len(y_test)\n",
    "MSE_test"
   ]
  },
  {
   "cell_type": "code",
   "execution_count": 9,
   "metadata": {},
   "outputs": [
    {
     "data": {
      "image/png": "[encoded data removed]",
      "text/plain": [
       "<Figure size 432x288 with 1 Axes>"
      ]
     },
     "metadata": {
      "needs_background": "light"
     },
     "output_type": "display_data"
    }
   ],
   "source": [
    "#Learning curve\n",
    "train_error = []\n",
    "test_error = []\n",
    "\n",
    "for N_train in range(20, 620, 20):\n",
    "    #Split training and testing data\n",
    "    X_train = X[:N_train]\n",
    "    y_train = y[:N_train]\n",
    "    #X_test = X[N_train:]\n",
    "    #y_test = y[N_train:]\n",
    "    \n",
    "    #Standardize data\n",
    "    scaler = StandardScaler().fit(X_train)\n",
    "    X_train_stand = scaler.transform(X_train)\n",
    "    X_test_stand = scaler.transform(X_test)\n",
    "    \n",
    "    #Train data\n",
    "    XT = X_train_stand.transpose()\n",
    "    XTX = np.matmul(XT, X_train_stand)\n",
    "    XTX_inv = np.linalg.inv(XTX)\n",
    "    w = np.matmul(np.matmul(XTX_inv, XT), y_train)\n",
    "    \n",
    "    #Get MSE on training set\n",
    "    y_hat_train = np.matmul(X_train_stand, w) + np.mean(y_train)\n",
    "    MSE_train = (np.sum((y_hat_train - y_train)**2)) / len(y_train)\n",
    "    train_error.append(MSE_train)\n",
    "    \n",
    "    #Get MSE on testing set\n",
    "    y_hat_test = np.matmul(X_test_stand, w) + np.mean(y_train)\n",
    "    MSE_test = (np.sum((y_hat_test - y_test)**2)) / len(y_test)\n",
    "    test_error.append(MSE_test)\n",
    "    \n",
    "#Plot errors\n",
    "train_error_plot, = plt.plot(range(20, 620, 20), train_error, label='Training Error')\n",
    "test_error_plot, = plt.plot(range(20, 620, 20), test_error, label='Testing Error')\n",
    "plt.legend(handles=[train_error_plot, test_error_plot])\n",
    "plt.xlabel('Size of Dataset used for Training')\n",
    "plt.ylabel('MSE')\n",
    "plt.xticks(range(0, 620, 40))\n",
    "plt.show()"
   ]
  },
  {
   "cell_type": "markdown",
   "metadata": {},
   "source": [
    "Since the training and testing error curves level off at roughly the same value, it appears this model is not underfitting. It appears you only need a training set size of around 150 data points before the testing error becomes adequate. More data points appears to produce improvement to testing error with no signs of overfitting, but these improvements are incredibly small."
   ]
  },
  {
   "cell_type": "code",
   "execution_count": 10,
   "metadata": {},
   "outputs": [],
   "source": [
    "#Re-Load data and put into train and test sets\n",
    "X, y = cp.load(open('winequality-white.pickle', 'rb'))\n",
    "N, D = X.shape\n",
    "N_train = int(0.8 * N)\n",
    "N_test = N - N_train\n",
    "X_train = X[:N_train]\n",
    "y_train = y[:N_train]\n",
    "X_test = X[N_train:]\n",
    "y_test = y[N_train:]"
   ]
  },
  {
   "cell_type": "code",
   "execution_count": 11,
   "metadata": {},
   "outputs": [],
   "source": [
    "#Split training into training and validation sets\n",
    "N = int(len(X_train) * 0.8)\n",
    "X_train_ridge = X_train[:N]\n",
    "y_train_ridge = y_train[:N]\n",
    "X_valid_ridge = X_train[N:]\n",
    "y_valid_ridge = y_train[N:]"
   ]
  },
  {
   "cell_type": "code",
   "execution_count": 12,
   "metadata": {},
   "outputs": [
    {
     "data": {
      "text/plain": [
       "0.01"
      ]
     },
     "execution_count": 12,
     "metadata": {},
     "output_type": "execute_result"
    }
   ],
   "source": [
    "#Get degree 2 basis expansion\n",
    "poly = PolynomialFeatures(2)\n",
    "X_train_ridge_poly = poly.fit_transform(X_train_ridge)\n",
    "X_valid_ridge_poly = poly.fit_transform(X_valid_ridge)\n",
    "\n",
    "#Loop to find best lambda\n",
    "best_lambda = -1\n",
    "best_error = 1000\n",
    "for l in [0.01, 0.1, 1, 10, 100]:\n",
    "    #Create pipeline\n",
    "    pipe = Pipeline([('scaler', StandardScaler()), ('ridge', Ridge(alpha=l))])\n",
    "    pipe.fit(X_train_ridge_poly, y_train_ridge)\n",
    "    error = (np.sum((pipe.predict(X_valid_ridge_poly) - y_valid_ridge)**2)) / len(y_valid_ridge)\n",
    "    \n",
    "    if error < best_error:\n",
    "        best_lambda = l\n",
    "        best_error = error\n",
    "        \n",
    "best_lambda"
   ]
  },
  {
   "cell_type": "code",
   "execution_count": 13,
   "metadata": {},
   "outputs": [],
   "source": [
    "#Repeat steps for Lasso\n",
    "#Split training into training and validation sets\n",
    "N = int(len(X_train) * 0.8)\n",
    "X_train_lasso = X_train[:N]\n",
    "y_train_lasso = y_train[:N]\n",
    "X_valid_lasso = X_train[N:]\n",
    "y_valid_lasso = y_train[N:]"
   ]
  },
  {
   "cell_type": "code",
   "execution_count": 14,
   "metadata": {},
   "outputs": [
    {
     "data": {
      "text/plain": [
       "0.01"
      ]
     },
     "execution_count": 14,
     "metadata": {},
     "output_type": "execute_result"
    }
   ],
   "source": [
    "#Get degree 2 basis expansion\n",
    "poly = PolynomialFeatures(2)\n",
    "X_train_lasso_poly = poly.fit_transform(X_train_lasso)\n",
    "X_valid_lasso_poly = poly.fit_transform(X_valid_lasso)\n",
    "\n",
    "#Loop to find best lambda\n",
    "best_lambda = -1\n",
    "best_error = 1000\n",
    "for l in [0.01, 0.1, 1, 10, 100]:\n",
    "    #Create pipeline\n",
    "    pipe = Pipeline([('scaler', StandardScaler()), ('lasso', Lasso(alpha=l))])\n",
    "    pipe.fit(X_train_lasso_poly, y_train_lasso)\n",
    "    error = (np.sum((pipe.predict(X_valid_lasso_poly) - y_valid_lasso)**2)) / len(y_valid_lasso)\n",
    "    \n",
    "    if error < best_error:\n",
    "        best_lambda = l\n",
    "        best_error = error\n",
    "        \n",
    "best_lambda"
   ]
  },
  {
   "cell_type": "code",
   "execution_count": 15,
   "metadata": {},
   "outputs": [
    {
     "data": {
      "text/plain": [
       "[0.5014354471429413, 0.5161138844985498]"
      ]
     },
     "execution_count": 15,
     "metadata": {},
     "output_type": "execute_result"
    }
   ],
   "source": [
    "#Get training and testing error on full data sets for Ridge\n",
    "X_train_poly = poly.fit_transform(X_train)\n",
    "X_test_poly = poly.fit_transform(X_test)\n",
    "\n",
    "pipe = Pipeline([('scaler', StandardScaler()), ('lasso', Ridge(alpha=0.01))])\n",
    "pipe.fit(X_train_poly, y_train)\n",
    "    \n",
    "train_error_ridge = (np.sum((pipe.predict(X_train_poly) - y_train)**2)) / len(y_train)\n",
    "test_error_ridge = (np.sum((pipe.predict(X_test_poly) - y_test)**2)) / len(y_test)\n",
    "\n",
    "[train_error_ridge, test_error_ridge]"
   ]
  },
  {
   "cell_type": "code",
   "execution_count": 16,
   "metadata": {},
   "outputs": [
    {
     "name": "stderr",
     "output_type": "stream",
     "text": [
      "C:\\Anaconda3\\lib\\site-packages\\sklearn\\linear_model\\coordinate_descent.py:475: ConvergenceWarning: Objective did not converge. You might want to increase the number of iterations. Duality gap: 0.6575181351659012, tolerance: 0.304341322103114\n",
      "  positive)\n"
     ]
    },
    {
     "data": {
      "text/plain": [
       "[0.5489433346501358, 0.542231437143067]"
      ]
     },
     "execution_count": 16,
     "metadata": {},
     "output_type": "execute_result"
    }
   ],
   "source": [
    "#Get training and testing error on full data sets for Lasso\n",
    "pipe = Pipeline([('scaler', StandardScaler()), ('lasso', Lasso(alpha=0.01))])\n",
    "pipe.fit(X_train_poly, y_train)\n",
    "    \n",
    "train_error_lasso = (np.sum((pipe.predict(X_train_poly) - y_train)**2)) / len(y_train)\n",
    "test_error_lasso = (np.sum((pipe.predict(X_test_poly) - y_test)**2)) / len(y_test)\n",
    "\n",
    "[train_error_lasso, test_error_lasso]"
   ]
  }
 ],
 "metadata": {
  "kernelspec": {
   "display_name": "Python 3",
   "language": "python",
   "name": "python3"
  },
  "language_info": {
   "codemirror_mode": {
    "name": "ipython",
    "version": 3
   },
   "file_extension": ".py",
   "mimetype": "text/x-python",
   "name": "python",
   "nbconvert_exporter": "python",
   "pygments_lexer": "ipython3",
   "version": "3.7.9"
  }
 },
 "nbformat": 4,
 "nbformat_minor": 2
}
