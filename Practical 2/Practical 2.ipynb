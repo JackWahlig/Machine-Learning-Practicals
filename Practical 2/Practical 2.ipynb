{
 "cells": [
  {
   "cell_type": "code",
   "execution_count": 1,
   "metadata": {},
   "outputs": [],
   "source": [
    "import numpy as np\n",
    "import pickle as cp\n",
    "import matplotlib.pyplot as plt\n",
    "from sklearn.linear_model import LogisticRegression\n",
    "from sklearn.naive_bayes import GaussianNB\n",
    "from sklearn.datasets import load_iris"
   ]
  },
  {
   "cell_type": "code",
   "execution_count": 17,
   "metadata": {},
   "outputs": [],
   "source": [
    "#Naive Bayes Classifier Class\n",
    "class NBC:\n",
    "    def __init__(self, feature_types, num_classes):\n",
    "        self.feature_types = feature_types\n",
    "        self.num_classes = num_classes\n",
    "        self.num_real_features = np.count_nonzero(np.array(feature_types) == 'r', axis=0)\n",
    "        self.num_bin_features = np.count_nonzero(np.array(feature_types) == 'b', axis=0)\n",
    "        self.var_smoothing = var_smoothing = 1e-5\n",
    "        \n",
    "        #Identify columns for binary values\n",
    "        self.bin_features = []\n",
    "        for i in range(len(feature_types)):\n",
    "            if feature_types[i] == 'b':\n",
    "                self.bin_features.append(i)\n",
    "        \n",
    "    def fit(self, X, y):\n",
    "        #Add column of ones\n",
    "        #ones = np.array([[1]])\n",
    "        #for i in range(len(X) - 1):\n",
    "        #    ones = np.append(ones, [np.array([1])], axis=0)\n",
    "        #X = np.append(ones, X, axis=1)\n",
    "        \n",
    "        #Separate real and binary features\n",
    "        X_bin = X[:,self.bin_features]\n",
    "        X_real = np.delete(X, self.bin_features, axis=1)\n",
    "\n",
    "        #Init all mu's, sigma's, theta's, priors, and class counts to 0 for all features and classes\n",
    "        self.mus = np.zeros((self.num_classes, self.num_real_features))\n",
    "        self.sigmas = np.zeros((self.num_classes, self.num_real_features))\n",
    "        self.thetas = np.zeros((self.num_classes, self.num_bin_features))\n",
    "        self.class_counts = np.zeros(self.num_classes)\n",
    "        self.class_priors = np.zeros(self.num_classes)\n",
    "        \n",
    "        #First handle real valued features assuming Normal distributions\n",
    "        #Separate X values by classes\n",
    "        self.classes = np.unique(y)\n",
    "        for y_i in self.classes:\n",
    "            i = self.classes.searchsorted(y_i) #index of class, needed below\n",
    "            X_real_i = X_real[y == y_i, :]\n",
    "            \n",
    "            #Update number of data points with this class label\n",
    "            self.class_counts[i] += len(X_real_i)\n",
    "            \n",
    "            #Get means and variances for features of that class\n",
    "            mu = np.mean(X_real_i, axis=0)\n",
    "            sigma = np.var(X_real_i, axis=0)\n",
    "            \n",
    "            self.mus[i, :] = mu\n",
    "            self.sigmas[i, :] = sigma\n",
    "        \n",
    "        #Smooth variances so they are not exactly 0\n",
    "        self.sigmas[:, :] += self.var_smoothing\n",
    "        \n",
    "        #Now let's handle binary valued features assuming Bernoulli distribution\n",
    "        for y_i in self.classes:\n",
    "            i = self.classes.searchsorted(y_i)\n",
    "            X_bin_i = X_bin[y == y_i, :]\n",
    "            \n",
    "            #Get bernoulli prob that feature=1 for that class\n",
    "            theta = np.count_nonzero(X_bin_i, axis=0) / len(X_bin_i) \n",
    "            self.thetas[i, :] = theta\n",
    "            \n",
    "        #Smooth variances so they are not exactly 0\n",
    "        self.thetas[:, :] += self.var_smoothing\n",
    "            \n",
    "        #Define priors to be frequency of class in dataset\n",
    "        self.class_priors = self.class_counts / self.class_counts.sum()\n",
    "        \n",
    "        return self\n",
    "    \n",
    "    #Preditc classes for points in X given the fitted model\n",
    "    def predict(self, X):\n",
    "        #Obtain log likelihoods for each class\n",
    "        log_likelihoods = self.log_likelihoods(X)\n",
    "        \n",
    "        #Return the class with highest log likelihood\n",
    "        i = np.argmax(log_likelihoods, axis=0)\n",
    "        return self.classes[i]\n",
    "    \n",
    "    #Calculates log likelihood for each class of the given model assuming normal distributions\n",
    "    def log_likelihoods(self, X):\n",
    "        #Split into real valued and binary valued features\n",
    "        X_bin = X[:,self.bin_features]\n",
    "        X_real = np.delete(X, self.bin_features, axis=1)\n",
    "        log_likelihoods = []\n",
    "        \n",
    "        for i in range(self.num_classes):\n",
    "            prior = np.log(self.class_priors[i])\n",
    "            normal = 0\n",
    "            bern = 0\n",
    "            if self.sigmas.size != 0:\n",
    "                normal = - 0.5 * np.sum(np.log(self.sigmas[i, :] * 2. * np.pi)) - 0.5 * np.sum(((X_real - self.mus[i, :]) ** 2) / (self.sigmas[i, :]), 1)\n",
    "            if self.thetas.size != 0:\n",
    "                bern = np.log(np.sum(X_bin * (self.thetas[i, :]) + (1 - X_bin) * (1 - self.thetas[i, :]), 1))\n",
    "            log_likelihoods.append(prior + normal + bern)\n",
    "        \n",
    "        log_likelihoods = np.array(log_likelihoods)\n",
    "        return log_likelihoods"
   ]
  },
  {
   "cell_type": "code",
   "execution_count": 18,
   "metadata": {},
   "outputs": [
    {
     "data": {
      "text/plain": [
       "array([1, 2])"
      ]
     },
     "execution_count": 18,
     "metadata": {},
     "output_type": "execute_result"
    }
   ],
   "source": [
    "test = NBC(feature_types = ['r', 'r', 'r'], num_classes = 2)\n",
    "X = np.array([[1, 1, 1], [4, 1, 1], [7, 0, 0]])\n",
    "y = np.array([1, 1, 2])\n",
    "test.fit(X, y)\n",
    "test.predict(np.array([[1, 1, 1], [7, 1, 0]]))"
   ]
  },
  {
   "cell_type": "markdown",
   "metadata": {},
   "source": [
    "C is the inverse of the regularization strength. So, as the sklearn webpage explains, no regularization means a very high value of C. If we want λwTw regularization with λ = 0.1, that means we would want to choose our sklearn model to have l2 penalty with C = 5 as the sklearn model already multiplies its regularization term by a factor of 0.5."
   ]
  },
  {
   "cell_type": "code",
   "execution_count": 19,
   "metadata": {},
   "outputs": [],
   "source": [
    "#Load in iris data\n",
    "iris = load_iris()\n",
    "X, y = iris['data'], iris['target']"
   ]
  },
  {
   "cell_type": "code",
   "execution_count": 21,
   "metadata": {},
   "outputs": [
    {
     "name": "stderr",
     "output_type": "stream",
     "text": [
      "C:\\Anaconda3\\lib\\site-packages\\ipykernel_launcher.py:88: RuntimeWarning: divide by zero encountered in log\n",
      "C:\\Anaconda3\\lib\\site-packages\\ipykernel_launcher.py:88: RuntimeWarning: divide by zero encountered in log\n",
      "C:\\Anaconda3\\lib\\site-packages\\ipykernel_launcher.py:88: RuntimeWarning: divide by zero encountered in log\n",
      "C:\\Anaconda3\\lib\\site-packages\\ipykernel_launcher.py:88: RuntimeWarning: divide by zero encountered in log\n",
      "C:\\Anaconda3\\lib\\site-packages\\ipykernel_launcher.py:88: RuntimeWarning: divide by zero encountered in log\n",
      "C:\\Anaconda3\\lib\\site-packages\\ipykernel_launcher.py:88: RuntimeWarning: divide by zero encountered in log\n"
     ]
    }
   ],
   "source": [
    "#Keep track of error rates for every iteration\n",
    "all_log_error_rates = []\n",
    "all_NBC_error_rates = []\n",
    "iterations = 200\n",
    "\n",
    "#Iterate enough times, then take averages of error rates\n",
    "for i in range(1, iterations + 1):\n",
    "    #Shuffle data and split it 80/20\n",
    "    N, D = X.shape\n",
    "    Ntrain = int(0.8 * N)\n",
    "    shuffler = np.random.permutation(N)\n",
    "    Xtrain = X[shuffler[:Ntrain]]\n",
    "    ytrain = y[shuffler[:Ntrain]]\n",
    "    Xtest = X[shuffler[Ntrain:]]\n",
    "    ytest = y[shuffler[Ntrain:]]\n",
    "\n",
    "    log_error_rates = []\n",
    "    NBC_error_rates = []\n",
    "\n",
    "    #10 loops where we use k * 10% of total training data\n",
    "    for k in range(1, 11):\n",
    "        Ntrain_subset = int(k * 0.1 * Ntrain)\n",
    "        Xtrain_subset = Xtrain[:Ntrain_subset]\n",
    "        ytrain_subset = ytrain[:Ntrain_subset]\n",
    "\n",
    "        #Fit logistic regression and get error rate\n",
    "        log_clf = LogisticRegression(solver='lbfgs', multi_class='auto', max_iter=1000).fit(Xtrain_subset, ytrain_subset)\n",
    "        log_prediction = log_clf.predict(Xtest)\n",
    "        log_error_rate = (len(ytest) - np.sum(ytest == log_prediction)) / (len(ytest))\n",
    "        log_error_rates.append(log_error_rate)\n",
    "        \n",
    "        #Fit NBC and get error rate\n",
    "        NBC_clf = NBC(feature_types=['r', 'r', 'r', 'r'], num_classes=3).fit(Xtrain_subset, ytrain_subset)\n",
    "        NBC_prediction = NBC_clf.predict(Xtest)\n",
    "        NBC_error_rate = (len(ytest) - np.sum(ytest == NBC_prediction)) / (len(ytest))\n",
    "        NBC_error_rates.append(NBC_error_rate)\n",
    "        \n",
    "    #Add list of all 10 error rates to list of all error rates for both models\n",
    "    all_log_error_rates.append(log_error_rates)\n",
    "    all_NBC_error_rates.append(NBC_error_rates)"
   ]
  },
  {
   "cell_type": "code",
   "execution_count": 22,
   "metadata": {},
   "outputs": [],
   "source": [
    "#Get average error rates for each K used over all iterations\n",
    "all_log_error_rates = np.array(all_log_error_rates)\n",
    "avg_log_error_rates = np.sum(all_log_error_rates, axis=0) / iterations\n",
    "\n",
    "all_NBC_error_rates = np.array(all_NBC_error_rates)\n",
    "avg_NBC_error_rates = np.sum(all_NBC_error_rates, axis=0) / iterations"
   ]
  },
  {
   "cell_type": "code",
   "execution_count": 23,
   "metadata": {},
   "outputs": [
    {
     "data": {
      "image/png": "[encoded data removed]",
      "text/plain": [
       "<Figure size 432x288 with 1 Axes>"
      ]
     },
     "metadata": {
      "needs_background": "light"
     },
     "output_type": "display_data"
    }
   ],
   "source": [
    "#Plot error rates as function of size of training set\n",
    "log_error_plot, = plt.plot(range(10, 110, 10), avg_log_error_rates, label='Logistic Regression')\n",
    "NBC_error_plot, = plt.plot(range(10, 110, 10), avg_NBC_error_rates, label='Naive Bayes Classifier')\n",
    "plt.legend(handles=[log_error_plot, NBC_error_plot])\n",
    "plt.xlabel('% of Dataset used for Training')\n",
    "plt.ylabel('Averaged Classification Error for Iris Dataset')\n",
    "plt.show()"
   ]
  },
  {
   "cell_type": "code",
   "execution_count": 24,
   "metadata": {},
   "outputs": [],
   "source": [
    "X, y = cp.load(open('voting.pickle', 'rb'))"
   ]
  },
  {
   "cell_type": "code",
   "execution_count": 26,
   "metadata": {},
   "outputs": [],
   "source": [
    "#Keep track of error rates for every iteration\n",
    "all_log_error_rates = []\n",
    "all_NBC_error_rates = []\n",
    "iterations = 200\n",
    "\n",
    "#Iterate enough times, then take averages of error rates\n",
    "for i in range(1, iterations + 1):\n",
    "    #Shuffle data and split it 80/20\n",
    "    N, D = X.shape\n",
    "    Ntrain = int(0.8 * N)\n",
    "    shuffler = np.random.permutation(N)\n",
    "    Xtrain = X[shuffler[:Ntrain]]\n",
    "    ytrain = y[shuffler[:Ntrain]]\n",
    "    Xtest = X[shuffler[Ntrain:]]\n",
    "    ytest = y[shuffler[Ntrain:]]\n",
    "\n",
    "    log_error_rates = []\n",
    "    NBC_error_rates = []\n",
    "\n",
    "    #10 loops where we use k * 10% of total training data\n",
    "    for k in range(1, 11):\n",
    "        Ntrain_subset = int(k * 0.1 * Ntrain)\n",
    "        Xtrain_subset = Xtrain[:Ntrain_subset]\n",
    "        ytrain_subset = ytrain[:Ntrain_subset]\n",
    "\n",
    "        #Fit logistic regression and get error rate\n",
    "        log_clf = LogisticRegression(solver='lbfgs', multi_class='auto', max_iter=1000).fit(Xtrain_subset, ytrain_subset)\n",
    "        log_prediction = log_clf.predict(Xtest)\n",
    "        log_error_rate = (len(ytest) - np.sum(ytest == log_prediction)) / (len(ytest))\n",
    "        log_error_rates.append(log_error_rate)\n",
    "        \n",
    "        #Fit NBC and get error rate\n",
    "        NBC_clf = NBC(feature_types=['b','b','b','b','b','b','b','b','b','b','b','b','b','b','b','b'], num_classes=2).fit(Xtrain_subset, ytrain_subset)\n",
    "        NBC_prediction = NBC_clf.predict(Xtest)\n",
    "        NBC_error_rate = (len(ytest) - np.sum(ytest == NBC_prediction)) / (len(ytest))\n",
    "        NBC_error_rates.append(NBC_error_rate)\n",
    "        \n",
    "    #Add list of all 10 error rates to list of all error rates for both models\n",
    "    all_log_error_rates.append(log_error_rates)\n",
    "    all_NBC_error_rates.append(NBC_error_rates)"
   ]
  },
  {
   "cell_type": "code",
   "execution_count": 27,
   "metadata": {},
   "outputs": [],
   "source": [
    "#Get average error rates for each K used over all iterations\n",
    "all_log_error_rates = np.array(all_log_error_rates)\n",
    "avg_log_error_rates = np.sum(all_log_error_rates, axis=0) / iterations\n",
    "\n",
    "all_NBC_error_rates = np.array(all_NBC_error_rates)\n",
    "avg_NBC_error_rates = np.sum(all_NBC_error_rates, axis=0) / iterations"
   ]
  },
  {
   "cell_type": "code",
   "execution_count": 28,
   "metadata": {},
   "outputs": [
    {
     "data": {
      "image/png": "[encoded data removed]",
      "text/plain": [
       "<Figure size 432x288 with 1 Axes>"
      ]
     },
     "metadata": {
      "needs_background": "light"
     },
     "output_type": "display_data"
    }
   ],
   "source": [
    "#Plot error rates as function of size of training set\n",
    "log_error_plot, = plt.plot(range(10, 110, 10), avg_log_error_rates, label='Logistic Regression')\n",
    "NBC_error_plot, = plt.plot(range(10, 110, 10), avg_NBC_error_rates, label='Naive Bayes Classifier')\n",
    "plt.legend(handles=[log_error_plot, NBC_error_plot])\n",
    "plt.xlabel('% of Dataset used for Training')\n",
    "plt.ylabel('Averaged Classification Error for Voter Dataset')\n",
    "plt.show()"
   ]
  },
  {
   "cell_type": "code",
   "execution_count": null,
   "metadata": {},
   "outputs": [],
   "source": []
  }
 ],
 "metadata": {
  "kernelspec": {
   "display_name": "Python 3",
   "language": "python",
   "name": "python3"
  },
  "language_info": {
   "codemirror_mode": {
    "name": "ipython",
    "version": 3
   },
   "file_extension": ".py",
   "mimetype": "text/x-python",
   "name": "python",
   "nbconvert_exporter": "python",
   "pygments_lexer": "ipython3",
   "version": "3.7.4"
  }
 },
 "nbformat": 4,
 "nbformat_minor": 2
}
